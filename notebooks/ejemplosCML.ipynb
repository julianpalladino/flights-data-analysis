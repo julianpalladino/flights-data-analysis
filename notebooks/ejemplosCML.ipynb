{
 "cells": [
  {
   "cell_type": "code",
   "execution_count": 1,
   "metadata": {
    "collapsed": true
   },
   "outputs": [],
   "source": [
    "import pandas as pd                  # Para trabajar con datos\n",
    "import numpy as np                   # Para cosas de álgebra lineal\n",
    "import matplotlib.pyplot as plt      # Para gráficos\n",
    "import seaborn as sns                # Para gráficos lindos :^)\n",
    "sns.set_style(\"darkgrid\")\n",
    "from sklearn import linear_model     # Para CML\n",
    "import random\n",
    "\n",
    "import warnings\n",
    "warnings.filterwarnings('ignore')  # Cállese, hombre horrible!"
   ]
  },
  {
   "cell_type": "markdown",
   "metadata": {},
   "source": [
    "# Predicción con Cuadrados Mínimos Lineales\n",
    "### Visualización"
   ]
  },
  {
   "cell_type": "code",
   "execution_count": 2,
   "metadata": {},
   "outputs": [
    {
     "name": "stdout",
     "output_type": "stream",
     "text": [
      "Las primeras 8 filas de los datos:\n",
      "\n",
      "   x          y\n",
      "0  0  19.184917\n",
      "1  1  24.238282\n",
      "2  2  25.516969\n",
      "3  3  21.132415\n",
      "4  4  18.515618\n",
      "5  5  16.674168\n",
      "6  6  21.679375\n",
      "7  7  73.866501\n"
     ]
    }
   ],
   "source": [
    "# Levanto los datos\n",
    "\n",
    "# https://pandas.pydata.org/pandas-docs/stable/generated/pandas.read_csv.html\n",
    "df = pd.read_csv('datos.csv')\n",
    "\n",
    "print(\"Las primeras 8 filas de los datos:\", df.head(8), sep=\"\\n\\n\")"
   ]
  },
  {
   "cell_type": "code",
   "execution_count": 3,
   "metadata": {},
   "outputs": [
    {
     "name": "stdout",
     "output_type": "stream",
     "text": [
      "Decripción de los datos:\n",
      "\n",
      "               x          y\n",
      "count  60.000000  60.000000\n",
      "mean   29.500000  28.975082\n",
      "std    17.464249  13.771049\n",
      "min     0.000000 -16.997848\n",
      "25%    14.750000  23.874282\n",
      "50%    29.500000  28.227643\n",
      "75%    44.250000  33.404901\n",
      "max    59.000000  73.866501\n"
     ]
    }
   ],
   "source": [
    "print(\"Decripción de los datos:\", df.describe(), sep=\"\\n\\n\")"
   ]
  },
  {
   "cell_type": "code",
   "execution_count": 4,
   "metadata": {
    "scrolled": true
   },
   "outputs": [
    {
     "data": {
      "image/png": "[encoded data removed]",
      "text/plain": [
       "<matplotlib.figure.Figure at 0x7f9842aa5cf8>"
      ]
     },
     "metadata": {},
     "output_type": "display_data"
    }
   ],
   "source": [
    "# Grafico los datos\n",
    "\n",
    "# http://seaborn.pydata.org/generated/seaborn.tsplot.html\n",
    "ax = sns.tsplot(time=df['x'], data=df['y'], interpolate=False)\n",
    "plt.show()"
   ]
  },
  {
   "cell_type": "markdown",
   "metadata": {},
   "source": [
    "### Limpieza"
   ]
  },
  {
   "cell_type": "code",
   "execution_count": 5,
   "metadata": {
    "scrolled": true
   },
   "outputs": [
    {
     "data": {
      "image/png": "[encoded data removed]",
      "text/plain": [
       "<matplotlib.figure.Figure at 0x7f98409c8208>"
      ]
     },
     "metadata": {},
     "output_type": "display_data"
    }
   ],
   "source": [
    "# Limpio los outliers\n",
    "\n",
    "def mascara_de_no_outliers(s):\n",
    "    not_outliers = abs(s - s.mean()) <= 2*s.std()\n",
    "    return not_outliers\n",
    "\n",
    "mascara = mascara_de_no_outliers(df['y'])\n",
    "# Me quedo solo con las filas que que no son outliers\n",
    "df = df[mascara]\n",
    "sns.tsplot(time=df['x'], data=df['y'], interpolate=False)\n",
    "plt.show()"
   ]
  },
  {
   "cell_type": "markdown",
   "metadata": {},
   "source": [
    "### Predicción"
   ]
  },
  {
   "cell_type": "code",
   "execution_count": 6,
   "metadata": {
    "collapsed": true,
    "scrolled": false
   },
   "outputs": [],
   "source": [
    "# Graficos los datos reales para tenerlos como referencia\n",
    "sns.tsplot(time=df['x'], data=df['y'], interpolate=False)\n",
    "\n",
    "def armar_matriz_A(s):\n",
    "    temp = []\n",
    "    for t in s:\n",
    "        temp.append([t])\n",
    "    return np.array(temp)\n",
    "\n",
    "def entrenar_y_predecir_en_rangos(df, rango_entrenamiento, rango_prediccion):\n",
    "    # http://scikit-learn.org/stable/modules/generated/sklearn.linear_model.LinearRegression.html\n",
    "    regr = linear_model.LinearRegression(fit_intercept=False)\n",
    "\n",
    "    ## Entreno el modelo\n",
    "    \n",
    "    # Armo la matriz A de features\n",
    "    df_entrenamiento = df[df['x'].isin(rango_entrenamiento)]\n",
    "    A = armar_matriz_A(df_entrenamiento['x'])\n",
    "    \n",
    "    # 'Fiteo' los datos de entrenamiento\n",
    "    regr.fit(A, df_entrenamiento['y'])\n",
    "    \n",
    "    # Grafico la aproximacion\n",
    "    df_entrenamiento['pred'] = regr.predict(A)\n",
    "    sns.tsplot(time=df_entrenamiento['x'], data=df_entrenamiento['pred'], color='red')\n",
    "\n",
    "    ## Realizo predicciones\n",
    "    \n",
    "    # Armo la matriz A de features\n",
    "    df_prediccion = df[df['x'].isin(rango_prediccion)]\n",
    "    A = armar_matriz_A(df_prediccion['x'])\n",
    "    \n",
    "    # Predigo los datos de testeo\n",
    "    df_prediccion['pred'] = regr.predict(A)\n",
    "    \n",
    "    # Grafico la prediccion\n",
    "    sns.tsplot(time=df_prediccion['x'], data=df_prediccion['pred'], color='green')\n",
    "\n",
    "    ## Calculo el Error Cuadrático Medio\n",
    "    ECM = sum((df_prediccion['pred'] - df_prediccion['y'])**2) / df_prediccion.shape[0]\n",
    "    return ECM\n",
    "\n",
    "def predecir(k):\n",
    "    rango_entrenamiento = list(range(k-30,k))\n",
    "    rango_prediccion = list(range(k,k+10))\n",
    "    return entrenar_y_predecir_en_rangos(df, rango_entrenamiento, rango_prediccion)\n",
    "\n"
   ]
  },
  {
   "cell_type": "code",
   "execution_count": 7,
   "metadata": {},
   "outputs": [
    {
     "data": {
      "image/png": "[encoded data removed]",
      "text/plain": [
       "<matplotlib.figure.Figure at 0x7f98409195c0>"
      ]
     },
     "metadata": {},
     "output_type": "display_data"
    }
   ],
   "source": [
    "predecir(40)\n",
    " \n",
    "plt.xlim((-10,70))\n",
    "plt.show()"
   ]
  },
  {
   "cell_type": "markdown",
   "metadata": {},
   "source": [
    "### Validación"
   ]
  },
  {
   "cell_type": "code",
   "execution_count": 8,
   "metadata": {
    "scrolled": false
   },
   "outputs": [
    {
     "name": "stdout",
     "output_type": "stream",
     "text": [
      "Error de predicción: 180.79\n",
      "Error de predicción: 78.53\n",
      "Error de predicción: 219.01\n"
     ]
    },
    {
     "data": {
      "image/png": "[encoded data removed]",
      "text/plain": [
       "<matplotlib.figure.Figure at 0x7f98409f62b0>"
      ]
     },
     "metadata": {},
     "output_type": "display_data"
    }
   ],
   "source": [
    "sns.tsplot(time=df['x'], data=df['y'], interpolate=False)\n",
    "\n",
    "ECM = predecir(40)\n",
    "print(\"Error de predicción: {:.2f}\".format(ECM))\n",
    "ECM = predecir(50)\n",
    "print(\"Error de predicción: {:.2f}\".format(ECM))\n",
    "ECM = predecir(30)\n",
    "print(\"Error de predicción: {:.2f}\".format(ECM))\n",
    "    \n",
    "plt.xlim((-10,70))\n",
    "plt.show()"
   ]
  },
  {
   "cell_type": "markdown",
   "metadata": {},
   "source": [
    "### Qué errores hice?\n",
    "\n",
    "\n",
    "\n",
    "\n",
    "\n",
    "\n",
    "\n",
    "\n",
    "\n",
    "\n",
    "\n",
    "\n",
    "\n",
    "\n",
    "\n",
    "\n",
    "\n",
    "\n",
    "\n",
    "\n",
    "\n",
    "\n",
    "\n",
    "\n",
    "\n",
    "\n",
    "\n",
    "\n",
    "\n",
    "\n",
    "\n",
    "\n",
    "\n",
    "\n",
    "\n",
    "\n",
    "\n",
    "\n",
    "\n",
    "* Cómo filtro los outliers?\n",
    "* Está bien cómo calculo el ECM?\n",
    "* Qué le falta a los gráficos?"
   ]
  },
  {
   "cell_type": "markdown",
   "metadata": {},
   "source": [
    "### Consideraciones a tener en cuenta durante el TP\n",
    "* Quiero predecir comportamientos particulares o generales?\n",
    "* Cuánto tiempo uso para entrenar? Cuánto tiempo quiero predecir?\n",
    "* Qué familias elijo? Por qué las elijo?\n",
    "* Qué métrica utilizo para comparar distintas familias?\n",
    "* Mi eje `x` tiene que ser tiempo sí o sí?\n",
    "* Tengo que limitarme a usar ***una*** dimensión para predecir? Puedo tener eje `x`, eje `y` y querer predecir eje `z`?"
   ]
  },
  {
   "cell_type": "markdown",
   "metadata": {},
   "source": [
    "# Extra de Pandas"
   ]
  },
  {
   "cell_type": "code",
   "execution_count": 9,
   "metadata": {},
   "outputs": [
    {
     "data": {
      "text/html": [
       "<div>\n",
       "<style scoped>\n",
       "    .dataframe tbody tr th:only-of-type {\n",
       "        vertical-align: middle;\n",
       "    }\n",
       "\n",
       "    .dataframe tbody tr th {\n",
       "        vertical-align: top;\n",
       "    }\n",
       "\n",
       "    .dataframe thead th {\n",
       "        text-align: right;\n",
       "    }\n",
       "</style>\n",
       "<table border=\"1\" class=\"dataframe\">\n",
       "  <thead>\n",
       "    <tr style=\"text-align: right;\">\n",
       "      <th></th>\n",
       "      <th>delay</th>\n",
       "      <th>year</th>\n",
       "    </tr>\n",
       "  </thead>\n",
       "  <tbody>\n",
       "    <tr>\n",
       "      <th>0</th>\n",
       "      <td>79.998326</td>\n",
       "      <td>2004</td>\n",
       "    </tr>\n",
       "    <tr>\n",
       "      <th>1</th>\n",
       "      <td>78.970055</td>\n",
       "      <td>2004</td>\n",
       "    </tr>\n",
       "    <tr>\n",
       "      <th>2</th>\n",
       "      <td>5.000000</td>\n",
       "      <td>2004</td>\n",
       "    </tr>\n",
       "    <tr>\n",
       "      <th>3</th>\n",
       "      <td>80.503653</td>\n",
       "      <td>2004</td>\n",
       "    </tr>\n",
       "    <tr>\n",
       "      <th>4</th>\n",
       "      <td>80.486707</td>\n",
       "      <td>2004</td>\n",
       "    </tr>\n",
       "    <tr>\n",
       "      <th>5</th>\n",
       "      <td>80.428914</td>\n",
       "      <td>2004</td>\n",
       "    </tr>\n",
       "    <tr>\n",
       "      <th>6</th>\n",
       "      <td>5.410119</td>\n",
       "      <td>2005</td>\n",
       "    </tr>\n",
       "    <tr>\n",
       "      <th>7</th>\n",
       "      <td>80.000000</td>\n",
       "      <td>2005</td>\n",
       "    </tr>\n",
       "    <tr>\n",
       "      <th>8</th>\n",
       "      <td>3.827789</td>\n",
       "      <td>2005</td>\n",
       "    </tr>\n",
       "    <tr>\n",
       "      <th>9</th>\n",
       "      <td>4.645427</td>\n",
       "      <td>2005</td>\n",
       "    </tr>\n",
       "    <tr>\n",
       "      <th>10</th>\n",
       "      <td>2.886267</td>\n",
       "      <td>2005</td>\n",
       "    </tr>\n",
       "    <tr>\n",
       "      <th>11</th>\n",
       "      <td>6.213743</td>\n",
       "      <td>2005</td>\n",
       "    </tr>\n",
       "    <tr>\n",
       "      <th>12</th>\n",
       "      <td>50.665478</td>\n",
       "      <td>2006</td>\n",
       "    </tr>\n",
       "    <tr>\n",
       "      <th>13</th>\n",
       "      <td>49.432616</td>\n",
       "      <td>2006</td>\n",
       "    </tr>\n",
       "    <tr>\n",
       "      <th>14</th>\n",
       "      <td>49.912136</td>\n",
       "      <td>2006</td>\n",
       "    </tr>\n",
       "    <tr>\n",
       "      <th>15</th>\n",
       "      <td>49.708708</td>\n",
       "      <td>2006</td>\n",
       "    </tr>\n",
       "    <tr>\n",
       "      <th>16</th>\n",
       "      <td>49.549956</td>\n",
       "      <td>2006</td>\n",
       "    </tr>\n",
       "    <tr>\n",
       "      <th>17</th>\n",
       "      <td>51.017116</td>\n",
       "      <td>2006</td>\n",
       "    </tr>\n",
       "  </tbody>\n",
       "</table>\n",
       "</div>"
      ],
      "text/plain": [
       "        delay  year\n",
       "0   79.998326  2004\n",
       "1   78.970055  2004\n",
       "2    5.000000  2004\n",
       "3   80.503653  2004\n",
       "4   80.486707  2004\n",
       "5   80.428914  2004\n",
       "6    5.410119  2005\n",
       "7   80.000000  2005\n",
       "8    3.827789  2005\n",
       "9    4.645427  2005\n",
       "10   2.886267  2005\n",
       "11   6.213743  2005\n",
       "12  50.665478  2006\n",
       "13  49.432616  2006\n",
       "14  49.912136  2006\n",
       "15  49.708708  2006\n",
       "16  49.549956  2006\n",
       "17  51.017116  2006"
      ]
     },
     "execution_count": 9,
     "metadata": {},
     "output_type": "execute_result"
    }
   ],
   "source": [
    "years = [2004]*6 + [2005]*6 + [2006]*6\n",
    "delays = list(np.random.randn(6)+80) + list(np.random.randn(6)+5) + list(np.random.randn(6)+50)\n",
    "delays[2] = 5\n",
    "delays[7] = 80\n",
    "\n",
    "df1 = pd.DataFrame({\n",
    "    'year': years,\n",
    "    'delay': delays\n",
    "})\n",
    "\n",
    "df1"
   ]
  },
  {
   "cell_type": "code",
   "execution_count": 10,
   "metadata": {},
   "outputs": [
    {
     "name": "stdout",
     "output_type": "stream",
     "text": [
      "Indice: 2004\n",
      "Grupo:\n",
      "       delay  year\n",
      "0  79.998326  2004\n",
      "1  78.970055  2004\n",
      "2   5.000000  2004\n",
      "3  80.503653  2004\n",
      "4  80.486707  2004\n",
      "5  80.428914  2004\n",
      "\n",
      "#########\n",
      "\n",
      "Indice: 2005\n",
      "Grupo:\n",
      "        delay  year\n",
      "6    5.410119  2005\n",
      "7   80.000000  2005\n",
      "8    3.827789  2005\n",
      "9    4.645427  2005\n",
      "10   2.886267  2005\n",
      "11   6.213743  2005\n",
      "\n",
      "#########\n",
      "\n",
      "Indice: 2006\n",
      "Grupo:\n",
      "        delay  year\n",
      "12  50.665478  2006\n",
      "13  49.432616  2006\n",
      "14  49.912136  2006\n",
      "15  49.708708  2006\n",
      "16  49.549956  2006\n",
      "17  51.017116  2006\n",
      "\n",
      "#########\n",
      "\n"
     ]
    }
   ],
   "source": [
    "for idx, group in df1.groupby('year'):\n",
    "    print(\"Indice:\", idx)\n",
    "    print(\"Grupo:\", group, sep=\"\\n\", end=\"\\n\\n#########\\n\\n\")"
   ]
  },
  {
   "cell_type": "code",
   "execution_count": 11,
   "metadata": {
    "scrolled": false
   },
   "outputs": [
    {
     "data": {
      "text/html": [
       "<div>\n",
       "<style scoped>\n",
       "    .dataframe tbody tr th:only-of-type {\n",
       "        vertical-align: middle;\n",
       "    }\n",
       "\n",
       "    .dataframe tbody tr th {\n",
       "        vertical-align: top;\n",
       "    }\n",
       "\n",
       "    .dataframe thead th {\n",
       "        text-align: right;\n",
       "    }\n",
       "</style>\n",
       "<table border=\"1\" class=\"dataframe\">\n",
       "  <thead>\n",
       "    <tr style=\"text-align: right;\">\n",
       "      <th></th>\n",
       "      <th>delay</th>\n",
       "      <th>year</th>\n",
       "    </tr>\n",
       "  </thead>\n",
       "  <tbody>\n",
       "    <tr>\n",
       "      <th>0</th>\n",
       "      <td>79.998326</td>\n",
       "      <td>2004</td>\n",
       "    </tr>\n",
       "    <tr>\n",
       "      <th>1</th>\n",
       "      <td>78.970055</td>\n",
       "      <td>2004</td>\n",
       "    </tr>\n",
       "    <tr>\n",
       "      <th>3</th>\n",
       "      <td>80.503653</td>\n",
       "      <td>2004</td>\n",
       "    </tr>\n",
       "    <tr>\n",
       "      <th>4</th>\n",
       "      <td>80.486707</td>\n",
       "      <td>2004</td>\n",
       "    </tr>\n",
       "    <tr>\n",
       "      <th>5</th>\n",
       "      <td>80.428914</td>\n",
       "      <td>2004</td>\n",
       "    </tr>\n",
       "    <tr>\n",
       "      <th>6</th>\n",
       "      <td>5.410119</td>\n",
       "      <td>2005</td>\n",
       "    </tr>\n",
       "    <tr>\n",
       "      <th>8</th>\n",
       "      <td>3.827789</td>\n",
       "      <td>2005</td>\n",
       "    </tr>\n",
       "    <tr>\n",
       "      <th>9</th>\n",
       "      <td>4.645427</td>\n",
       "      <td>2005</td>\n",
       "    </tr>\n",
       "    <tr>\n",
       "      <th>10</th>\n",
       "      <td>2.886267</td>\n",
       "      <td>2005</td>\n",
       "    </tr>\n",
       "    <tr>\n",
       "      <th>11</th>\n",
       "      <td>6.213743</td>\n",
       "      <td>2005</td>\n",
       "    </tr>\n",
       "    <tr>\n",
       "      <th>12</th>\n",
       "      <td>50.665478</td>\n",
       "      <td>2006</td>\n",
       "    </tr>\n",
       "    <tr>\n",
       "      <th>13</th>\n",
       "      <td>49.432616</td>\n",
       "      <td>2006</td>\n",
       "    </tr>\n",
       "    <tr>\n",
       "      <th>14</th>\n",
       "      <td>49.912136</td>\n",
       "      <td>2006</td>\n",
       "    </tr>\n",
       "    <tr>\n",
       "      <th>15</th>\n",
       "      <td>49.708708</td>\n",
       "      <td>2006</td>\n",
       "    </tr>\n",
       "    <tr>\n",
       "      <th>16</th>\n",
       "      <td>49.549956</td>\n",
       "      <td>2006</td>\n",
       "    </tr>\n",
       "    <tr>\n",
       "      <th>17</th>\n",
       "      <td>51.017116</td>\n",
       "      <td>2006</td>\n",
       "    </tr>\n",
       "  </tbody>\n",
       "</table>\n",
       "</div>"
      ],
      "text/plain": [
       "        delay  year\n",
       "0   79.998326  2004\n",
       "1   78.970055  2004\n",
       "3   80.503653  2004\n",
       "4   80.486707  2004\n",
       "5   80.428914  2004\n",
       "6    5.410119  2005\n",
       "8    3.827789  2005\n",
       "9    4.645427  2005\n",
       "10   2.886267  2005\n",
       "11   6.213743  2005\n",
       "12  50.665478  2006\n",
       "13  49.432616  2006\n",
       "14  49.912136  2006\n",
       "15  49.708708  2006\n",
       "16  49.549956  2006\n",
       "17  51.017116  2006"
      ]
     },
     "execution_count": 11,
     "metadata": {},
     "output_type": "execute_result"
    }
   ],
   "source": [
    "# Groupby y sacar outliers\n",
    "\n",
    "mascara = df1.groupby('year')['delay'].apply(mascara_de_no_outliers)\n",
    "df1 = df1[mascara]\n",
    "df1"
   ]
  },
  {
   "cell_type": "code",
   "execution_count": 12,
   "metadata": {},
   "outputs": [
    {
     "data": {
      "text/html": [
       "<div>\n",
       "<style scoped>\n",
       "    .dataframe tbody tr th:only-of-type {\n",
       "        vertical-align: middle;\n",
       "    }\n",
       "\n",
       "    .dataframe tbody tr th {\n",
       "        vertical-align: top;\n",
       "    }\n",
       "\n",
       "    .dataframe thead tr th {\n",
       "        text-align: left;\n",
       "    }\n",
       "\n",
       "    .dataframe thead tr:last-of-type th {\n",
       "        text-align: right;\n",
       "    }\n",
       "</style>\n",
       "<table border=\"1\" class=\"dataframe\">\n",
       "  <thead>\n",
       "    <tr>\n",
       "      <th></th>\n",
       "      <th colspan=\"3\" halign=\"left\">delay</th>\n",
       "    </tr>\n",
       "    <tr>\n",
       "      <th></th>\n",
       "      <th>mean</th>\n",
       "      <th>std</th>\n",
       "      <th>count</th>\n",
       "    </tr>\n",
       "    <tr>\n",
       "      <th>year</th>\n",
       "      <th></th>\n",
       "      <th></th>\n",
       "      <th></th>\n",
       "    </tr>\n",
       "  </thead>\n",
       "  <tbody>\n",
       "    <tr>\n",
       "      <th>2004</th>\n",
       "      <td>80.077531</td>\n",
       "      <td>0.652927</td>\n",
       "      <td>5</td>\n",
       "    </tr>\n",
       "    <tr>\n",
       "      <th>2005</th>\n",
       "      <td>4.596669</td>\n",
       "      <td>1.303424</td>\n",
       "      <td>5</td>\n",
       "    </tr>\n",
       "    <tr>\n",
       "      <th>2006</th>\n",
       "      <td>50.047668</td>\n",
       "      <td>0.645103</td>\n",
       "      <td>6</td>\n",
       "    </tr>\n",
       "  </tbody>\n",
       "</table>\n",
       "</div>"
      ],
      "text/plain": [
       "          delay                \n",
       "           mean       std count\n",
       "year                           \n",
       "2004  80.077531  0.652927     5\n",
       "2005   4.596669  1.303424     5\n",
       "2006  50.047668  0.645103     6"
      ]
     },
     "execution_count": 12,
     "metadata": {},
     "output_type": "execute_result"
    }
   ],
   "source": [
    "# Groupby y calcular promedio\n",
    "\n",
    "promedio = df1.groupby('year').aggregate(['mean', 'std', 'count'])\n",
    "promedio"
   ]
  }
 ],
 "metadata": {
  "kernelspec": {
   "display_name": "Python 3",
   "language": "python",
   "name": "python3"
  },
  "language_info": {
   "codemirror_mode": {
    "name": "ipython",
    "version": 3
   },
   "file_extension": ".py",
   "mimetype": "text/x-python",
   "name": "python",
   "nbconvert_exporter": "python",
   "pygments_lexer": "ipython3",
   "version": "3.5.2"
  }
 },
 "nbformat": 4,
 "nbformat_minor": 2
}
