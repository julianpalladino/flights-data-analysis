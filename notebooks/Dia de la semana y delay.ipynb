{
 "cells": [
  {
   "cell_type": "markdown",
   "metadata": {},
   "source": [
    "# Buscamos relacion entre el dia de la semana en que parte el vuelo, y la probabilidad de que este demorado"
   ]
  },
  {
   "cell_type": "code",
   "execution_count": 14,
   "metadata": {
    "collapsed": true
   },
   "outputs": [],
   "source": [
    "import sqlite3\n",
    "import pandas as pd\n",
    "import numpy as np                   # Para cosas de álgebra lineal\n",
    "import matplotlib.pyplot as plt      # Para gráficos\n",
    "import seaborn as sns                # Para gráficos lindos :^)\n",
    "sns.set_style(\"darkgrid\")\n",
    "from sklearn import linear_model     # Para CML\n",
    "conn = sqlite3.connect('../vuelos.db')\n",
    "\n",
    "import warnings\n",
    "warnings.filterwarnings('ignore')"
   ]
  },
  {
   "cell_type": "markdown",
   "metadata": {},
   "source": [
    "# To do:\n",
    "    - Al analizar todos los años, primero mostrar como cae la cantidad de vuelos post 2001, y despues sacar todo el año (desde septiembre 2001 hasta septiembre 2002), diciendo que todo el año es un outlier y daña las metricas (me dijo nestor que estaba bien)"
   ]
  },
  {
   "cell_type": "code",
   "execution_count": 28,
   "metadata": {
    "scrolled": true
   },
   "outputs": [
    {
     "name": "stdout",
     "output_type": "stream",
     "text": [
      "   DayOfWeek  DelayPercentage  TotalAmount\n",
      "0          1         0.268261       190374\n",
      "1          2         0.264386       167853\n",
      "2          3         0.272011       168850\n",
      "3          4         0.285656       170236\n",
      "4          5         0.285363       192036\n",
      "5          6         0.231482       166747\n",
      "6          7         0.268080       181849\n"
     ]
    }
   ],
   "source": [
    "df = pd.read_sql_query('''\n",
    "select o.DayOfWeek as DayOfWeek, count(*)*1.0/o2.amount as DelayPercentage, o2.amount as TotalAmount\n",
    "from ontime o\n",
    "join (select DayOfWeek, count(*) as amount from ontime where month = {month} and DayOfWeek != \"NA\" and year >= {year} group by DayOfWeek)\n",
    "  as o2 on o2.DayOfWeek = o.DayOfWeek\n",
    "where o.DayOfWeek != \"NA\"  and\n",
    "  o.DepDelay >= 15\n",
    "  and year >= {year}\n",
    "  and month = {month}\n",
    "group by o.DayOfWeek\n",
    "order by o.DayOfWeek asc;'''.format(year=2007, month=6), conn)\n",
    "    \n",
    "print(df)"
   ]
  },
  {
   "cell_type": "code",
   "execution_count": 29,
   "metadata": {},
   "outputs": [
    {
     "data": {
      "image/png": "[encoded data removed]",
      "text/plain": [
       "<matplotlib.figure.Figure at 0x7fc32f8c9198>"
      ]
     },
     "metadata": {},
     "output_type": "display_data"
    }
   ],
   "source": [
    "sns.tsplot(time=df['DayOfWeek'], data=df['DelayPercentage'], interpolate=False)\n",
    "plt.show()"
   ]
  }
 ],
 "metadata": {
  "kernelspec": {
   "display_name": "Python 3",
   "language": "python",
   "name": "python3"
  },
  "language_info": {
   "codemirror_mode": {
    "name": "ipython",
    "version": 3
   },
   "file_extension": ".py",
   "mimetype": "text/x-python",
   "name": "python",
   "nbconvert_exporter": "python",
   "pygments_lexer": "ipython3",
   "version": "3.5.2"
  }
 },
 "nbformat": 4,
 "nbformat_minor": 2
}
